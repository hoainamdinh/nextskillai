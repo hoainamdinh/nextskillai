{
 "cells": [
  {
   "cell_type": "code",
   "execution_count": null,
   "id": "4b9d63f1",
   "metadata": {},
   "outputs": [],
   "source": [
    "import pandas as pd\n",
    "import numpy as np\n",
    "from sklearn.metrics.pairwise import cosine_similarity\n",
    "from sklearn.cluster import KMeans\n",
    "from xulidulieu import Preimport warnings\n",
    "warnings.filterwarnings(\"ignore\")"
   ]
  },
  {
   "cell_type": "code",
   "execution_count": 2,
   "id": "d9e689be",
   "metadata": {},
   "outputs": [],
   "source": [
    "CustomerData = \"using python and tableau to processing data\"  # Description of current skills\n",
    "Field = \"Data Science\"  # Field of interest\n",
    "Jobwant = \"Data Analyst\"  # Job title or role you want to apply for\n",
    "CustomerID = \"C00001\"\n"
   ]
  },
  {
   "cell_type": "code",
   "execution_count": 3,
   "id": "7bd8934b",
   "metadata": {},
   "outputs": [],
   "source": [
    "df_job = pd.read_excel(\"Job.xlsx\", sheet_name=Field)\n",
    "df_skill = pd.read_excel(\"Skill.xlsx\")"
   ]
  },
  {
   "cell_type": "code",
   "execution_count": 4,
   "id": "7815cd1a",
   "metadata": {},
   "outputs": [],
   "source": [
    "# Loại bỏ các hàng trùng lặp trong cột 'Skill'\n",
    "df_skill = df_skill.drop_duplicates(subset='Skill', keep='first').reset_index(drop=True)"
   ]
  },
  {
   "cell_type": "code",
   "execution_count": 5,
   "id": "d913f585",
   "metadata": {},
   "outputs": [],
   "source": [
    "df_skill['Skill_Description'] = df_skill['Skill'] + \" \" + df_skill['Description'] + df_skill['Skill'] + df_skill['Skill']"
   ]
  },
  {
   "cell_type": "code",
   "execution_count": 6,
   "id": "98b51b67",
   "metadata": {},
   "outputs": [],
   "source": [
    "df_job=Pre(df_job)\n",
    "df_skill=Pre(df_skill)"
   ]
  },
  {
   "cell_type": "code",
   "execution_count": 7,
   "id": "baa873dc",
   "metadata": {},
   "outputs": [],
   "source": [
    "from sklearn.feature_extraction.text import TfidfVectorizer\n",
    "\n",
    "def vectorize_tfidf(df_skills):\n",
    "    tfidf_vectorizer = TfidfVectorizer(stop_words='english')\n",
    "    tfidf_matrix = tfidf_vectorizer.fit_transform(df_skills['Skill_Description'])\n",
    "    return tfidf_matrix, tfidf_vectorizer"
   ]
  },
  {
   "cell_type": "code",
   "execution_count": 8,
   "id": "ac103f33",
   "metadata": {},
   "outputs": [],
   "source": [
    "def recommend(customer_data, tfidf_matrix, tfidf_vectorizer, df_skill, threshold=0.0001):\n",
    "    # Vectorize the input description\n",
    "    customer_vector = tfidf_vectorizer.transform([customer_data])\n",
    "    # Compute cosine similarity\n",
    "    similarity_scores = cosine_similarity(customer_vector, tfidf_matrix).flatten()\n",
    "    # Get relevant indices\n",
    "    relevant_indices = np.where(similarity_scores > threshold)[0]\n",
    "    # Sort by similarity score\n",
    "    sorted_indices = relevant_indices[np.argsort(similarity_scores[relevant_indices])[::-1]]\n",
    "    sorted_scores = similarity_scores[sorted_indices]\n",
    "    # Get skill names\n",
    "    skill_names = df_skill.iloc[sorted_indices]['Skill'].values\n",
    "    return skill_names, sorted_scores\n"
   ]
  },
  {
   "cell_type": "code",
   "execution_count": 9,
   "id": "33790705",
   "metadata": {},
   "outputs": [],
   "source": [
    "# Vectorize job descriptions for the selected field\n",
    "tfidf_matrix, tfidf_vectorizer = vectorize_tfidf(df_skill)\n",
    "\n",
    "# Call the recommend function to get top_skills and scores\n",
    "top_skills, scores = recommend(CustomerData, tfidf_matrix, tfidf_vectorizer, df_skill)\n",
    "\n",
    "# Create a DataFrame with the recommended skills and their similarity scores\n",
    "recommended_skills_df = pd.DataFrame({\n",
    "    'Skill': top_skills,\n",
    "    'Similarity Score': scores\n",
    "})\n",
    "\n",
    "def cluster_data(df, n_clusters=2):\n",
    "    try:\n",
    "        # Prepare data for clustering\n",
    "        X = df[['Similarity Score']]\n",
    "        \n",
    "        # Apply KMeans\n",
    "        kmeans = KMeans(n_clusters=n_clusters, random_state=42)\n",
    "        df['Cluster'] = kmeans.fit_predict(X)\n",
    "        \n",
    "        # Split data into clusters\n",
    "        cluster_0 = df[df['Cluster'] == 0]\n",
    "        cluster_1 = df[df['Cluster'] == 1]\n",
    "        \n",
    "        return cluster_0, cluster_1\n",
    "    except Exception as e:\n",
    "        return df, df\n",
    "\n",
    "# Perform clustering on the recommended skills\n",
    "cluster_0_df, cluster_1_df = cluster_data(recommended_skills_df)\n",
    "\n",
    "# Compare and return the cluster with the highest similarity score\n",
    "\n",
    "# Display the cluster with the highest similarity score\n",
    "\n"
   ]
  },
  {
   "cell_type": "code",
   "execution_count": 10,
   "id": "d5bf721b",
   "metadata": {},
   "outputs": [],
   "source": [
    "def max_cluster(cluster_0_df, cluster_1_df):\n",
    "    if cluster_0_df['Similarity Score'].max() > cluster_1_df['Similarity Score'].max():\n",
    "        return cluster_0_df\n",
    "    else:\n",
    "        return cluster_1_df\n",
    "greater_cluster = max_cluster(cluster_0_df, cluster_1_df)"
   ]
  },
  {
   "cell_type": "code",
   "execution_count": 11,
   "id": "9f10a8d5",
   "metadata": {},
   "outputs": [],
   "source": [
    "def get_greater_cluster_list(greater_cluster):\n",
    "    greater_cluster_list = greater_cluster['Skill'].tolist()\n",
    "    return greater_cluster_list\n",
    "List_greater_cluster = get_greater_cluster_list(greater_cluster)"
   ]
  },
  {
   "cell_type": "code",
   "execution_count": 12,
   "id": "128f5b55",
   "metadata": {},
   "outputs": [],
   "source": [
    "def update_new_df(new_df, List_greater_cluster):\n",
    "    for index, row in new_df.iterrows():\n",
    "        for column in new_df.columns[1:]:  # Bỏ qua cột đầu tiên (Job Title)\n",
    "            if column in List_greater_cluster:\n",
    "                new_df.at[index, column] = 1\n",
    "    return new_df\n",
    "# chỉ dùng cho hàm \n",
    "# Cập nhật new_df\n",
    "# job_skill_matrix = update_new_df(new_df, List_greater_cluster)"
   ]
  },
  {
   "cell_type": "code",
   "execution_count": 13,
   "id": "d3c7039c",
   "metadata": {},
   "outputs": [],
   "source": [
    "def update_new_df_row(new_df, i, List_greater_cluster):\n",
    "    for ni in range(1, new_df.shape[1]):  # Bắt đầu từ cột thứ 2 (bỏ qua cột đầu tiên)\n",
    "        new_df.iloc[i, ni] = 1 if new_df.columns[ni] in List_greater_cluster else 0\n",
    "    return new_df"
   ]
  },
  {
   "cell_type": "code",
   "execution_count": 14,
   "id": "2606c394",
   "metadata": {},
   "outputs": [],
   "source": [
    "# Lặp qua từng phần tử trong cột cuối cùng của df_job\n",
    "def process_job_descriptions(df_job, df_skill, tfidf_matrix, tfidf_vectorizer, threshold=0.0001):\n",
    "    skills = df_skill['Skill'].tolist()\n",
    "\n",
    "    # Tạo DataFrame mới với cột đầu tiên là cột 'Job Title' từ df_job\n",
    "    new_df = df_job[['Job Title']].copy()\n",
    "\n",
    "    # Thêm các cột kỹ năng vào DataFrame mới, khởi tạo giá trị mặc định là 0\n",
    "    for skill in skills:\n",
    "        new_df[skill] = 0\n",
    "    for job_description,i in zip(df_job.iloc[:, -1],range(new_df.shape[0])):\n",
    "        # Recommend skills based on the job description\n",
    "        top_skills, scores = recommend(job_description, tfidf_matrix, tfidf_vectorizer, df_skill, threshold)\n",
    "        \n",
    "        # Create a DataFrame with the recommended skills and their similarity scores\n",
    "        recommended_skills_df = pd.DataFrame({\n",
    "            'Skill': top_skills,\n",
    "            'Similarity Score': scores\n",
    "        })\n",
    "        \n",
    "        # Perform clustering on the recommended skills\n",
    "        cluster_0_df, cluster_1_df = cluster_data(recommended_skills_df)\n",
    "        greater_cluster = max_cluster(cluster_0_df, cluster_1_df)\n",
    "        List_greater_cluster = get_greater_cluster_list(greater_cluster)\n",
    "        # Compare and return the cluster with the highest similarity score\n",
    "        # Lấy danh sách các kỹ năng từ cột 'Skill' của df_skill\n",
    "        update_new_df_row(new_df, i, List_greater_cluster)\n",
    "\n",
    "        \n",
    "\n",
    "        \n",
    "        \n",
    "    job_skill_matrix = new_df.copy() \n",
    "    return job_skill_matrix\n"
   ]
  },
  {
   "cell_type": "code",
   "execution_count": 15,
   "id": "897fa640",
   "metadata": {},
   "outputs": [
    {
     "name": "stderr",
     "output_type": "stream",
     "text": [
      "C:\\Users\\Hoang Duy\\AppData\\Local\\Temp\\ipykernel_11156\\1295339563.py:10: PerformanceWarning: DataFrame is highly fragmented.  This is usually the result of calling `frame.insert` many times, which has poor performance.  Consider joining all columns at once using pd.concat(axis=1) instead. To get a de-fragmented frame, use `newframe = frame.copy()`\n",
      "  new_df[skill] = 0\n",
      "C:\\Users\\Hoang Duy\\AppData\\Local\\Temp\\ipykernel_11156\\1295339563.py:10: PerformanceWarning: DataFrame is highly fragmented.  This is usually the result of calling `frame.insert` many times, which has poor performance.  Consider joining all columns at once using pd.concat(axis=1) instead. To get a de-fragmented frame, use `newframe = frame.copy()`\n",
      "  new_df[skill] = 0\n",
      "C:\\Users\\Hoang Duy\\AppData\\Local\\Temp\\ipykernel_11156\\1295339563.py:10: PerformanceWarning: DataFrame is highly fragmented.  This is usually the result of calling `frame.insert` many times, which has poor performance.  Consider joining all columns at once using pd.concat(axis=1) instead. To get a de-fragmented frame, use `newframe = frame.copy()`\n",
      "  new_df[skill] = 0\n",
      "C:\\Users\\Hoang Duy\\AppData\\Local\\Temp\\ipykernel_11156\\1295339563.py:10: PerformanceWarning: DataFrame is highly fragmented.  This is usually the result of calling `frame.insert` many times, which has poor performance.  Consider joining all columns at once using pd.concat(axis=1) instead. To get a de-fragmented frame, use `newframe = frame.copy()`\n",
      "  new_df[skill] = 0\n",
      "C:\\Users\\Hoang Duy\\AppData\\Local\\Temp\\ipykernel_11156\\1295339563.py:10: PerformanceWarning: DataFrame is highly fragmented.  This is usually the result of calling `frame.insert` many times, which has poor performance.  Consider joining all columns at once using pd.concat(axis=1) instead. To get a de-fragmented frame, use `newframe = frame.copy()`\n",
      "  new_df[skill] = 0\n"
     ]
    }
   ],
   "source": [
    "job_skill_matrix=process_job_descriptions(df_job, df_skill, tfidf_matrix, tfidf_vectorizer, threshold=0.0001)"
   ]
  },
  {
   "cell_type": "code",
   "execution_count": 16,
   "id": "b1b1fc83",
   "metadata": {},
   "outputs": [],
   "source": [
    "# Truy vấn jobwant trong job_skill_matrix\n",
    "jobwant_row = job_skill_matrix[job_skill_matrix['Job Title'] == Jobwant]\n"
   ]
  },
  {
   "cell_type": "code",
   "execution_count": 17,
   "id": "a12d00a9",
   "metadata": {},
   "outputs": [],
   "source": [
    "# Tạo DataFrame mới với cột đầu tiên là \"Job Want\"\n",
    "# Define the skills list from the df_skill DataFrame\n",
    "skills = df_skill['Skill'].tolist()\n",
    "\n",
    "customer_skill_df = pd.DataFrame(columns=[\"Job Title\"] + skills)\n",
    "\n",
    "# Thêm một dòng dữ liệu với giá trị \"Jobwant\" ở cột đầu tiên và các cột kỹ năng khác bằng 0\n",
    "customer_skill_df.loc[0] = [Jobwant] + [0] * len(skills)\n",
    "\n",
    "# Cập nhật giá trị 1 cho các kỹ năng trong danh sách List_greater_cluster\n",
    "Customer_skill_df=update_new_df_row(customer_skill_df, 0, List_greater_cluster)"
   ]
  },
  {
   "cell_type": "code",
   "execution_count": 18,
   "id": "774cd2a1",
   "metadata": {},
   "outputs": [],
   "source": [
    "# Ensure unique column names in both DataFrames\n",
    "\n",
    "job_skill_matrix = job_skill_matrix.loc[:, ~job_skill_matrix.columns.duplicated()]\n",
    "\n",
    "# Cập nhật cột 'Job Want' trong customer_skill_df\n",
    "customer_skill_df['Job Title'] = customer_skill_df['Job Title'] + \" \" + CustomerID\n",
    "\n",
    "\n",
    "# Merge customer_skill_df vào job_skill_matrix\n",
    "job_skill_similarity = pd.concat([jobwant_row, customer_skill_df], ignore_index=True)"
   ]
  },
  {
   "cell_type": "code",
   "execution_count": 19,
   "id": "f0dd601e",
   "metadata": {},
   "outputs": [
    {
     "data": {
      "text/html": [
       "<div>\n",
       "<style scoped>\n",
       "    .dataframe tbody tr th:only-of-type {\n",
       "        vertical-align: middle;\n",
       "    }\n",
       "\n",
       "    .dataframe tbody tr th {\n",
       "        vertical-align: top;\n",
       "    }\n",
       "\n",
       "    .dataframe thead th {\n",
       "        text-align: right;\n",
       "    }\n",
       "</style>\n",
       "<table border=\"1\" class=\"dataframe\">\n",
       "  <thead>\n",
       "    <tr style=\"text-align: right;\">\n",
       "      <th></th>\n",
       "      <th>Job Title</th>\n",
       "      <th>Python</th>\n",
       "      <th>SQL</th>\n",
       "      <th>Machine Learning</th>\n",
       "      <th>Deep Learning</th>\n",
       "      <th>Data Visualization</th>\n",
       "      <th>Statistics</th>\n",
       "      <th>Big Data Tools (Spark, Hadoop)</th>\n",
       "      <th>ETL/Data Pipeline</th>\n",
       "      <th>Business Knowledge</th>\n",
       "      <th>...</th>\n",
       "      <th>Visual Merchandising</th>\n",
       "      <th>Warehouse Operations</th>\n",
       "      <th>Web Performance Optimization</th>\n",
       "      <th>Wireframing</th>\n",
       "      <th>Teamwork</th>\n",
       "      <th>Time Management</th>\n",
       "      <th>Creativity</th>\n",
       "      <th>Leadership</th>\n",
       "      <th>Attention to Detail</th>\n",
       "      <th>Customer Focus</th>\n",
       "    </tr>\n",
       "  </thead>\n",
       "  <tbody>\n",
       "    <tr>\n",
       "      <th>0</th>\n",
       "      <td>Data Analyst</td>\n",
       "      <td>1</td>\n",
       "      <td>1</td>\n",
       "      <td>0</td>\n",
       "      <td>0</td>\n",
       "      <td>1</td>\n",
       "      <td>0</td>\n",
       "      <td>1</td>\n",
       "      <td>1</td>\n",
       "      <td>1</td>\n",
       "      <td>...</td>\n",
       "      <td>0</td>\n",
       "      <td>0</td>\n",
       "      <td>0</td>\n",
       "      <td>0</td>\n",
       "      <td>0</td>\n",
       "      <td>0</td>\n",
       "      <td>0</td>\n",
       "      <td>0</td>\n",
       "      <td>1</td>\n",
       "      <td>0</td>\n",
       "    </tr>\n",
       "    <tr>\n",
       "      <th>1</th>\n",
       "      <td>Data Analyst C00001</td>\n",
       "      <td>1</td>\n",
       "      <td>0</td>\n",
       "      <td>0</td>\n",
       "      <td>0</td>\n",
       "      <td>0</td>\n",
       "      <td>0</td>\n",
       "      <td>1</td>\n",
       "      <td>1</td>\n",
       "      <td>1</td>\n",
       "      <td>...</td>\n",
       "      <td>0</td>\n",
       "      <td>0</td>\n",
       "      <td>0</td>\n",
       "      <td>0</td>\n",
       "      <td>0</td>\n",
       "      <td>0</td>\n",
       "      <td>0</td>\n",
       "      <td>0</td>\n",
       "      <td>0</td>\n",
       "      <td>0</td>\n",
       "    </tr>\n",
       "  </tbody>\n",
       "</table>\n",
       "<p>2 rows × 105 columns</p>\n",
       "</div>"
      ],
      "text/plain": [
       "             Job Title  Python  SQL  Machine Learning  Deep Learning  \\\n",
       "0         Data Analyst       1    1                 0              0   \n",
       "1  Data Analyst C00001       1    0                 0              0   \n",
       "\n",
       "   Data Visualization  Statistics  Big Data Tools (Spark, Hadoop)  \\\n",
       "0                   1           0                               1   \n",
       "1                   0           0                               1   \n",
       "\n",
       "   ETL/Data Pipeline  Business Knowledge  ...  Visual Merchandising  \\\n",
       "0                  1                   1  ...                     0   \n",
       "1                  1                   1  ...                     0   \n",
       "\n",
       "   Warehouse Operations  Web Performance Optimization  Wireframing  Teamwork  \\\n",
       "0                     0                             0            0         0   \n",
       "1                     0                             0            0         0   \n",
       "\n",
       "   Time Management  Creativity  Leadership  Attention to Detail  \\\n",
       "0                0           0           0                    1   \n",
       "1                0           0           0                    0   \n",
       "\n",
       "   Customer Focus  \n",
       "0               0  \n",
       "1               0  \n",
       "\n",
       "[2 rows x 105 columns]"
      ]
     },
     "execution_count": 19,
     "metadata": {},
     "output_type": "execute_result"
    }
   ],
   "source": [
    "job_skill_similarity\n"
   ]
  },
  {
   "cell_type": "code",
   "execution_count": 20,
   "id": "2e1f45b9",
   "metadata": {},
   "outputs": [],
   "source": [
    "# Lấy giá trị từ dòng 1 và dòng 2, bắt đầu từ cột thứ 2\n",
    "row1 = job_skill_similarity.iloc[0, 1:]\n",
    "row2 = job_skill_similarity.iloc[1, 1:]\n",
    "\n",
    "# Tính hiệu giữa dòng 1 và dòng 2\n",
    "difference = row1 - row2\n",
    "\n",
    "# Lấy các cột có giá trị hiệu bằng 1\n",
    "Miss_skill = difference[difference == 1].index.tolist()\n",
    "\n"
   ]
  },
  {
   "cell_type": "code",
   "execution_count": 21,
   "id": "2b784ff3",
   "metadata": {},
   "outputs": [
    {
     "data": {
      "text/plain": [
       "['SQL',\n",
       " 'Data Visualization',\n",
       " 'Excel',\n",
       " 'Bioinformatics',\n",
       " 'Time Series Analysis',\n",
       " 'Data Cleaning',\n",
       " 'Critical Thinking',\n",
       " 'Forecasting',\n",
       " 'Power BI',\n",
       " 'Reporting Tools',\n",
       " 'Statistical Analysis',\n",
       " 'Trend Analysis',\n",
       " 'Attention to Detail']"
      ]
     },
     "execution_count": 21,
     "metadata": {},
     "output_type": "execute_result"
    }
   ],
   "source": [
    "Miss_skill"
   ]
  }
 ],
 "metadata": {
  "kernelspec": {
   "display_name": "Python 3",
   "language": "python",
   "name": "python3"
  },
  "language_info": {
   "codemirror_mode": {
    "name": "ipython",
    "version": 3
   },
   "file_extension": ".py",
   "mimetype": "text/x-python",
   "name": "python",
   "nbconvert_exporter": "python",
   "pygments_lexer": "ipython3",
   "version": "3.13.2"
  }
 },
 "nbformat": 4,
 "nbformat_minor": 5
}
